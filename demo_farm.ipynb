{
 "cells": [
  {
   "cell_type": "markdown",
   "id": "773239ad-e220-4ce2-a45b-7bb08dde0f8b",
   "metadata": {},
   "source": [
    "# Set up wind farm run"
   ]
  },
  {
   "cell_type": "code",
   "execution_count": null,
   "id": "f0216dc2-38f7-4c62-a457-e6353f2de665",
   "metadata": {},
   "outputs": [],
   "source": [
    "# Add any possible locations of amr-wind-frontend here\n",
    "amrwindfedirs = ['./submods/amr-wind-frontend/']\n",
    "import sys, os, shutil\n",
    "for x in amrwindfedirs: sys.path.insert(1, x)\n",
    "\n",
    "# Load the libraries\n",
    "import amrwind_frontend  as amrwind\n",
    "import matplotlib as mpl\n",
    "import matplotlib.pyplot as plt\n",
    "import numpy             as np\n",
    "import math\n",
    "import pandas as pd\n",
    "import postproamrwindsample as ppsample\n",
    "import time\n",
    "import utm\n",
    "import pickle\n",
    "\n",
    "# Also ignore warnings\n",
    "import warnings\n",
    "warnings.filterwarnings('ignore')\n",
    "\n",
    "# Make all plots inline \n",
    "%matplotlib inline\n",
    "plt.style.use(\"project.mplstyle\")\n",
    "\n",
    "cwd              = os.getcwd()"
   ]
  },
  {
   "cell_type": "code",
   "execution_count": null,
   "id": "eef37c6f-e1a9-480b-a20e-90e863a7464b",
   "metadata": {},
   "outputs": [],
   "source": [
    "# Start the AMR-Wind case\n",
    "case = amrwind.MyApp.init_nogui()"
   ]
  },
  {
   "cell_type": "code",
   "execution_count": null,
   "id": "7fc3d812-74a8-4d70-9865-59da95629074",
   "metadata": {},
   "outputs": [],
   "source": [
    "# Location of precursor run with boundary data\n",
    "precursordir  = '../02_precursor_shell/neutral_8.6at150.10dTInv_0.75z0_750zi_10x7x1km_feb3/'\n",
    "precursorsetup= os.path.join(precursordir, 'setup_precursor_neutral.i')\n",
    "\n",
    "# Location of farm run dir\n",
    "farmrundir       = os.path.join(cwd, 'demo_case')\n",
    "outputfile       = 'demo_case.inp'\n",
    "noturboutputfile = 'demo_case_noturbs.inp'\n",
    "\n",
    "verbose          = True\n",
    "\n",
    "# Go to the run directory\n",
    "os.chdir(cwd)\n",
    "if not os.path.exists(farmrundir):\n",
    "    os.makedirs(farmrundir)\n",
    "os.chdir(farmrundir)\n",
    "\n",
    "# Load the starting point\n",
    "case.loadAMRWindInput(precursorsetup)"
   ]
  },
  {
   "cell_type": "code",
   "execution_count": null,
   "id": "793130ec-678b-4b9e-baca-4e23c74d3c5f",
   "metadata": {},
   "outputs": [],
   "source": [
    "tstart = 20000 #chk65000 16125\n",
    "tstop  = 21800\n",
    "textra = 0"
   ]
  },
  {
   "cell_type": "code",
   "execution_count": null,
   "id": "5b1d08e1-c3e4-4e69-a798-93d461503300",
   "metadata": {},
   "outputs": [],
   "source": [
    "# Set the time constants\n",
    "case.setAMRWindInput('time.stop_time', tstop+textra)\n",
    "case.setAMRWindInput('time.fixed_dt', 0.02)\n",
    "case.setAMRWindInput('time.max_step',  -1)"
   ]
  },
  {
   "cell_type": "code",
   "execution_count": null,
   "id": "5dbb9c10-13e0-418b-8d77-738f08f73f8b",
   "metadata": {},
   "outputs": [],
   "source": [
    "# Set the restart point\n",
    "chkint = 40000\n",
    "chkdir = precursordir+f'/chk{chkint}/'\n",
    "case.setAMRWindInput('restart_file', os.path.realpath(chkdir))"
   ]
  },
  {
   "cell_type": "code",
   "execution_count": null,
   "id": "cf5f2229-e82e-477e-9ef2-408b9236c310",
   "metadata": {},
   "outputs": [],
   "source": [
    "# Set the boundary input file parameters\n",
    "ablstatfile = precursordir+'/post_processing/abl_statistics60000.nc'\n",
    "tavg        =  [tstart, tstop]\n",
    "forcingdict = {'ablstatfile':ablstatfile, 'tavg':tavg}\n",
    "inflowplanes= ['xlo'] #['ylo', 'xhi']\n",
    "bndryfiles  = os.path.join(precursordir, 'bndry_file.nc')"
   ]
  },
  {
   "cell_type": "code",
   "execution_count": null,
   "id": "dde163a7-74dc-42b0-9c33-69c5b7593156",
   "metadata": {},
   "outputs": [],
   "source": [
    "case.boundaryplane_restart(bndryfiles=bndryfiles, \n",
    "                           forcingdict=forcingdict, \n",
    "                           inflowplanes=inflowplanes,\n",
    "                           verbose=True)"
   ]
  },
  {
   "cell_type": "code",
   "execution_count": null,
   "id": "6d03aca5-bb11-41b8-93a8-02b674503961",
   "metadata": {},
   "outputs": [],
   "source": [
    "# Add the turbine specifications flag\n",
    "## Note that the options field can have things like:\n",
    "##    ADparam_TwrAero:False ADparam_TwrShadow:0 FSTparam_TMax:181234.0\n",
    "OFoptions=(\"ADparam_TwrAero:True ADparam_TwrShadow:0 FSTparam_CompHydro:0 FSTparam_CompSub:0 \"\n",
    "           \"EDparam_YawDOF:False \"\n",
    "           \"EDparam_PtfmSgDOF:False \"\n",
    "           \"EDparam_PtfmSwDOF:False \"\n",
    "           \"EDparam_PtfmHvDOF:False \"\n",
    "           \"EDparam_PtfmRDOF:False \"\n",
    "           \"EDparam_PtfmPDOF:False \"\n",
    "           \"EDparam_PtfmYDOF:False \"\n",
    "           \"AMRparam_Actuator_openfast_stop_time:2000 \"\n",
    "          )\n",
    "\n",
    "#\"EDparam_RotSpeed:5.00 \"\n",
    "\n",
    "## To specify changes to the OpenFAST model\n",
    "turbinescsv=\"\"\"\n",
    "# CSV file should have columns with\n",
    "# name, x, y, type, yaw, hubheight, options\n",
    "T1A, 12, -2000, IEA15MW_ALM, 250.0, , {OFoptions}\n",
    "T2A, 1862, -2000, IEA15MW_ALM, 250.0, , {OFoptions}\n",
    "T3A, 3712, -2000, IEA15MW_ALM, 260.0, , {OFoptions}\n",
    "T4A, 5562, -2000, IEA15MW_ALM, 270.0, , {OFoptions}\n",
    "#T5A, 7412, -2000, IEA15MW_ALM, 270.0, , {OFoptions}\n",
    "T1B, 12, 0, IEA15MW_ALM, 270.0, , {OFoptions}\n",
    "T2B, 1862, 0, IEA15MW_ALM, 270.0, , {OFoptions}\n",
    "T3B, 3712, 0, IEA15MW_ALM, 270.0, , {OFoptions}\n",
    "T4B, 5562, 0, IEA15MW_ALM, 270.0, , {OFoptions}\n",
    "#T5B, 7412, 0, IEA15MW_ALM, 270.0, , {OFoptions}\n",
    "T1C, 12, 2000, IEA15MW_ALM, 290.0, , {OFoptions}\n",
    "T2C, 1862, 2000, IEA15MW_ALM, 290.0, , {OFoptions}\n",
    "T3C, 3712, 2000, IEA15MW_ALM, 280.0, , {OFoptions}\n",
    "T4C, 5562, 2000, IEA15MW_ALM, 270.0, , {OFoptions}\n",
    "#T5C, 7412, 2000, IEA15MW_ALM, 270.0, , {OFoptions}\n",
    "\"\"\".format(OFoptions=OFoptions)\n",
    "case.setAMRWindInput('turbines_csvtextbox',  turbinescsv)"
   ]
  },
  {
   "cell_type": "code",
   "execution_count": null,
   "id": "6d91403d-de6d-42ec-9314-46039a9623e6",
   "metadata": {},
   "outputs": [],
   "source": [
    "case.setAMRWindInput('turbines_createnewdomain', False)\n",
    "case.setAMRWindInput('turbines_deleteprev', True)\n",
    "\n",
    "case.turbines_createAllTurbines()"
   ]
  },
  {
   "cell_type": "code",
   "execution_count": null,
   "id": "1e67a376-ddc1-44ab-96e1-354920dad37b",
   "metadata": {},
   "outputs": [],
   "source": [
    "# Preview the turbine layout\n",
    "fig, ax = plt.subplots(figsize=(5,5), facecolor='w', dpi=150)\n",
    "case.turbines_previewAllTurbines(ax=ax)"
   ]
  },
  {
   "cell_type": "markdown",
   "id": "10a15f5f-c77f-49f8-b285-d57292ba5ec9",
   "metadata": {},
   "source": [
    "## Make refinement regions"
   ]
  },
  {
   "cell_type": "code",
   "execution_count": null,
   "id": "6b17d683-b418-478a-8b79-504d1b53ec75",
   "metadata": {},
   "outputs": [],
   "source": [
    "refinementcsv=\"\"\"\n",
    "# CSV file should have columns with\n",
    "# level, upstream, downstream, lateral, below, above, options\n",
    "level, upstream, downstream, lateral, below, above, options\n",
    "0,     750,    8000,      3000,  150,  500,      center:specified units:meter centerx:0 centery:0 centerz:150 name:Farm\n",
    "1,  1,    1,    1,  1,  1.2, orientation:nacdir\n",
    "\"\"\"\n",
    "case.setAMRWindInput('refine_csvtextbox', refinementcsv)\n",
    "case.setAMRWindInput('refine_deleteprev', True)"
   ]
  },
  {
   "cell_type": "code",
   "execution_count": null,
   "id": "f2d55ef8-a1db-4eb5-bd99-489a808865ab",
   "metadata": {},
   "outputs": [],
   "source": [
    "case.refine_createAllZones()\n",
    "# Print out existing list of refinement zones\n",
    "print(case.listboxpopupwindict['listboxtagging'].getitemlist())"
   ]
  },
  {
   "cell_type": "code",
   "execution_count": null,
   "id": "ba933594-ba95-4ae8-8632-04646a04c9fb",
   "metadata": {},
   "outputs": [],
   "source": [
    "# Estimate mesh size\n",
    "case.estimateMeshSize(verbose=False)"
   ]
  },
  {
   "cell_type": "code",
   "execution_count": null,
   "id": "1b8ded47-0ffb-4a60-9346-55689686a8fc",
   "metadata": {},
   "outputs": [],
   "source": [
    "# Plot the domain\n",
    "fig, ax2 = plt.subplots(figsize=(5,5), facecolor='w', dpi=125)\n",
    "case.popup_storteddata['plotdomain']['plot_chooseview']      = 'XY'\n",
    "case.popup_storteddata['plotdomain']['plot_turbines']        = case.listboxpopupwindict['listboxactuator'].getitemlist()\n",
    "case.popup_storteddata['plotdomain']['plot_refineboxes']     = case.listboxpopupwindict['listboxtagging'].getitemlist()\n",
    "case.popup_storteddata['plotdomain']['plot_windnortharrows'] = False\n",
    "case.plotDomain(ax=ax2)\n",
    "ax2.set_title(\"\")\n",
    "plt.xlabel(r\"$x (\\mathrm{m})$\")\n",
    "plt.ylabel(r\"$y (\\mathrm{m})$\")\n",
    "pickle.dump(fig, open('farm.pickle', 'wb'))"
   ]
  },
  {
   "cell_type": "code",
   "execution_count": null,
   "id": "26727d75-4617-4225-8d92-e949d786bc0d",
   "metadata": {},
   "outputs": [],
   "source": [
    "# Plot the domain\n",
    "fig, ax = plt.subplots(figsize=(8,6), facecolor='w', dpi=125)\n",
    "case.popup_storteddata['plotdomain']['plot_chooseview']      = 'YZ'\n",
    "case.popup_storteddata['plotdomain']['plot_refineboxes']     = case.listboxpopupwindict['listboxtagging'].getitemlist()\n",
    "case.popup_storteddata['plotdomain']['plot_sampleprobes']    = [] #case.listboxpopupwindict['listboxsampling'].getitemlist()\n",
    "case.popup_storteddata['plotdomain']['plot_turbines']        = case.listboxpopupwindict['listboxactuator'].getitemlist()\n",
    "case.plotDomain(ax=ax)"
   ]
  },
  {
   "cell_type": "markdown",
   "id": "f9983e0e-fff3-4efa-affc-9b7fae99fcb2",
   "metadata": {},
   "source": [
    "## Add sampling planes"
   ]
  },
  {
   "cell_type": "code",
   "execution_count": null,
   "id": "4866457f-7a02-492c-9150-9ca3b54a781c",
   "metadata": {},
   "outputs": [],
   "source": [
    "# Delete all old sampling planes from precursor\n",
    "case.listboxpopupwindict['listboxsampling'].deleteall()\n",
    "case.listboxpopupwindict['listboxpostprosetup'].deleteall()\n",
    "print(case.listboxpopupwindict['listboxsampling'].getitemlist())\n",
    "print(case.listboxpopupwindict['listboxpostprosetup'].getitemlist())"
   ]
  },
  {
   "cell_type": "code",
   "execution_count": null,
   "id": "1cb032b9",
   "metadata": {},
   "outputs": [],
   "source": [
    "# Set up averaging\n",
    "pprosetup = case.get_default_postprosetupdict()\n",
    "pprosetup['postprocessing_setup_name'] = 'sampling_'\n",
    "pprosetup['postprocessing_setup_type'] = 'Sampling'\n",
    "pprosetup['postprocessing_setup_output_frequency'] =  1000\n",
    "pprosetup['postprocessing_setup_fields']           =  ['velocity', 'temperature','tke']\n",
    "case.add_postprosetup(pprosetup, verbose=True)\n",
    "sampleplane = case.get_default_samplingdict()\n",
    "# Modify the geometry\n",
    "sampleplane['sampling_name']         = 'XYslice'\n",
    "sampleplane['sampling_outputto']     = 'sampling_'\n",
    "sampleplane['sampling_type']         = 'PlaneSampler'\n",
    "sampleplane['sampling_p_num_points'] = [1024, 768]\n",
    "sampleplane['sampling_p_origin']     = [-1095., -3845., 0]\n",
    "sampleplane['sampling_p_axis1']      = [1095+9145., 0, 0]\n",
    "sampleplane['sampling_p_axis2']      = [0, 3845+3845, 0]\n",
    "sampleplane['sampling_p_normal']     = [0, 0, 1]\n",
    "sampleplane['sampling_p_offsets']    = '150.0'\n",
    "case.add_sampling(sampleplane)\n",
    "\n",
    "pprosetup = case.get_default_postprosetupdict()\n",
    "pprosetup['postprocessing_setup_name'] = 'samplingxz_'\n",
    "pprosetup['postprocessing_setup_type'] = 'Sampling'\n",
    "pprosetup['postprocessing_setup_output_frequency'] =  1000\n",
    "pprosetup['postprocessing_setup_fields']           =  ['velocity', 'temperature','tke']\n",
    "case.add_postprosetup(pprosetup, verbose=True)\n",
    "sampleplaneA = case.get_default_samplingdict()\n",
    "sampleplaneA['sampling_name']         = 'XZslice'\n",
    "sampleplaneA['sampling_outputto']     = 'samplingxz_'\n",
    "sampleplaneA['sampling_type']         = 'PlaneSampler'\n",
    "sampleplaneA['sampling_p_num_points'] = [1024, 96]\n",
    "sampleplaneA['sampling_p_origin']     = [-1095., 0., 0]\n",
    "sampleplaneA['sampling_p_axis1']      = [1095+9145., 0, 0]\n",
    "sampleplaneA['sampling_p_axis2']      = [0, 0, 960]\n",
    "sampleplaneA['sampling_p_normal']     = [0, 1, 0]\n",
    "sampleplaneA['sampling_p_offsets']    = '-2000 0.0 2000'\n",
    "case.add_sampling(sampleplaneA)"
   ]
  },
  {
   "cell_type": "code",
   "execution_count": null,
   "id": "55165896-6022-4a06-90d7-326e229c50f3",
   "metadata": {},
   "outputs": [],
   "source": [
    "samplingcsv=\"\"\"\n",
    "# CSV file should have columns withturbinescsv=\n",
    "# name, type, upstream, downstream, lateral, below, above, n1, n2, options\n",
    "name, type, upstream, downstream, lateral, below, above, n1, n2, options\n",
    "#cl1, centerline, 1,  0, none, none,  none,  11, 11, none\n",
    "rp1, rotorplane, 2,  8, 2, 0.6,  1,  101, 101, noffsets:11 outputto:RP_ outputfreq:10\n",
    "swA, streamwise, 2,  8, 0, 0.6,  1,  101, 101, outputto:SW_ outputfreq:10 orientation:275 applyto:T[0-2]A\n",
    "swA, streamwise, 2,  8, 0, 0.6,  1,  101, 101, outputto:SW_ outputfreq:10 orientation:272.5 applyto:T3A\n",
    "swA, streamwise, 2,  8, 0, 0.6,  1,  101, 101, outputto:SW_ outputfreq:10 orientation:270 applyto:T4A\n",
    "swB, streamwise, 2,  8, 0, 0.6,  1,  101, 101, outputto:SW_ outputfreq:10 orientation:270 applyto:T[0-9]B\n",
    "swC, streamwise, 2,  8, 0, 0.6,  1,  101, 101, outputto:SW_ outputfreq:10 orientation:265 applyto:T[0-2]C\n",
    "swC, streamwise, 2,  8, 0, 0.6,  1,  101, 101, outputto:SW_ outputfreq:10 orientation:267.5 applyto:T3C\n",
    "swC, streamwise, 2,  8, 0, 0.6,  1,  101, 101, outputto:SW_ outputfreq:10 orientation:270 applyto:T4C\n",
    "#hh,  hubheight,2000,2000,960, 0,  none,  11, 11, usedx:10 units:meter center:farm orientation:x outputvars:velocity;tke;temperature outputfreq:10 outputto:hubheight_\n",
    "\"\"\"\n",
    "\n",
    "case.setAMRWindInput('sampling_csvtextbox', samplingcsv)\n",
    "case.setAMRWindInput('sampling_deleteprev', False)"
   ]
  },
  {
   "cell_type": "code",
   "execution_count": null,
   "id": "c00b7f7c-b3e0-405b-b3b3-3f950463d01e",
   "metadata": {},
   "outputs": [],
   "source": [
    "case.sampling_createAllProbes(verbose=False)\n",
    "# Print out existing list of turbines\n",
    "print(case.listboxpopupwindict['listboxsampling'].getitemlist())"
   ]
  },
  {
   "cell_type": "code",
   "execution_count": null,
   "id": "84328e61-e132-4002-83ea-45972bda5a94",
   "metadata": {},
   "outputs": [],
   "source": [
    "# Plot the domain\n",
    "fig, ax = plt.subplots(figsize=(8,6), facecolor='w', dpi=125)\n",
    "case.popup_storteddata['plotdomain']['plot_chooseview']      = 'XY'\n",
    "case.popup_storteddata['plotdomain']['plot_refineboxes']     = [] #case.listboxpopupwindict['listboxtagging'].getitemlist()\n",
    "case.popup_storteddata['plotdomain']['plot_sampleprobes']    = case.listboxpopupwindict['listboxsampling'].getitemlist()\n",
    "case.popup_storteddata['plotdomain']['plot_turbines']        = case.listboxpopupwindict['listboxactuator'].getitemlist()\n",
    "case.plotDomain(ax=ax)"
   ]
  },
  {
   "cell_type": "markdown",
   "id": "c0e1d59e-44ec-4a30-8804-f809fbd75a53",
   "metadata": {},
   "source": [
    "## Add some extra (manual) options"
   ]
  },
  {
   "cell_type": "code",
   "execution_count": null,
   "id": "50c2048d-0bfe-4c36-b8a8-50ce7b050f51",
   "metadata": {},
   "outputs": [],
   "source": [
    "case.extradictparams['TKE.interpolation'] = 'PiecewiseConstant'\n",
    "case.extradictparams['nodal_proj.mg_rtol'] = 1.0e-6\n",
    "case.extradictparams['nodal_proj.mg_atol'] = 1.0e-12\n",
    "case.extradictparams['mac_proj.mg_rtol'] = 1.0e-6\n",
    "case.extradictparams['mac_proj.mg_atol'] = 1.0e-12\n",
    "case.extradictparams['diffusion.mg_rtol'] = 1.0e-6\n",
    "case.extradictparams['diffusion.mg_atol'] = 1.0e-12\n",
    "case.extradictparams['temperature_diffusion.mg_rtol'] = 1.0e-10\n",
    "case.extradictparams['temperature_diffusion.mg_atol'] = 1.0e-13\n",
    "case.extradictparams['io.outputs'] = 'actuator_src_term'\n",
    "case.extradictparams['io.derived_outputs'] = 'q_criterion'\n",
    "case.extradictparams['io.line_plot_int'] = 1\n",
    "case.extradictparams['io.restart_file'] = chkdir\n",
    "case.extradictparams['BoussinesqBuoyancy.read_temperature_profile'] = True\n",
    "case.extradictparams['BoussinesqBuoyancy.tprofile_filename']        = 'avg_theta.dat'\n",
    "case.extradictparams['ABL.wall_shear_stress_type'] = \"local\"\n",
    "case.extradictparams['ABL.inflow_outflow_mode']    = True\n",
    "case.extradictparams['ABL.wf_velocity']            = '2.500245 0.105173'\n",
    "case.extradictparams['ABL.wf_vmag']                = 2.532626503500448\n",
    "case.extradictparams['ABL.wf_theta']               = 300.0090871001242\n",
    "case.extradictparams['ABL.reference_temperature'] = 300.0\n",
    "case.extradictparams['ABL.temperature_heights'] = '0.0 700.0 800.0 1800.0'\n",
    "case.extradictparams['ABL.temperature_values'] = '300.0 300.0 310.0 313.0'\n",
    "case.extradictparams['ABL.perturb_temperature'] = False\n",
    "case.extradictparams['ABL.cutoff_height'] = 50.0\n",
    "case.extradictparams['ABL.perturb_velocity'] = True\n",
    "case.extradictparams['ABL.perturb_ref_height'] = 50.0\n",
    "case.extradictparams['ABL.Uperiods'] = 40.0\n",
    "case.extradictparams['ABL.Vperiods'] = 25.0\n",
    "case.extradictparams['ABL.deltaU'] = 0.25\n",
    "case.extradictparams['ABL.deltaV'] = 0.25\n",
    "case.extradictparams['ABL.kappa'] = .41\n",
    "case.extradictparams['ABL.surface_roughness_z0'] = 0.75\n",
    "case.extradictparams['ABL.normal_direction'] = 2\n",
    "case.extradictparams['BodyForce.magnitude'] = '0.00045577915197378074 0.0009349589835232567 0.0'\n",
    "case.extradictparams['averaging.averaging_window'] = 300.0\n",
    "case.extradictparams['averaging.averaging_start_time'] = 20900.0\n",
    "case.extradictparams['time.checkpoint_interval'] = 1000\n",
    "case.extradictparams['time.plot_interval'] = 1000\n",
    "case.extradictparams['time.checkpoint_start'] = chkint"
   ]
  },
  {
   "cell_type": "markdown",
   "id": "7478cf0d-0207-45da-9b0e-c95c63387a04",
   "metadata": {},
   "source": [
    "## Print the input file"
   ]
  },
  {
   "cell_type": "code",
   "execution_count": null,
   "id": "60e218a5-9386-40b8-82d8-8b2f0233c7e1",
   "metadata": {},
   "outputs": [],
   "source": [
    "# Write the input file\n",
    "inputfile=case.writeAMRWindInput(outputfile)\n",
    "if verbose: print(inputfile)"
   ]
  },
  {
   "cell_type": "markdown",
   "id": "c91fbec4-8b7e-4acc-8a9a-e1db6b899fd7",
   "metadata": {},
   "source": [
    "### Create a version without turbines"
   ]
  },
  {
   "cell_type": "code",
   "execution_count": null,
   "id": "a20e3bd3-7043-41a3-913d-3b122fb393e2",
   "metadata": {},
   "outputs": [],
   "source": [
    "def removeturbines(runcase):\n",
    "    physics = runcase.getAMRWindInput('incflo.physics')\n",
    "    if 'Actuator' in physics:\n",
    "        physics.remove('Actuator')\n",
    "        runcase.setAMRWindInput('physics', physics)\n",
    "        print('SET incflo.physics: '+repr(runcase.getAMRWindInput('incflo.physics')))\n",
    "    runcase.setAMRWindInput('ActuatorForcing', False)    \n",
    "    runcase.listboxpopupwindict['listboxactuator'].deleteall()\n",
    "    return"
   ]
  },
  {
   "cell_type": "code",
   "execution_count": null,
   "id": "5d6a9205-d761-4b9f-97ce-b4b209a2fad2",
   "metadata": {},
   "outputs": [],
   "source": [
    "#removeturbines(case)\n",
    "#inputfile=case.writeAMRWindInput(noturboutputfile)\n",
    "#if verbose: print(inputfile)"
   ]
  },
  {
   "cell_type": "code",
   "execution_count": null,
   "id": "d4251655-feaa-4506-ba11-b51015938e7a",
   "metadata": {},
   "outputs": [],
   "source": []
  },
  {
   "cell_type": "code",
   "execution_count": null,
   "id": "bdbec2cf-46ee-48f4-b79a-fdbbbb3b1174",
   "metadata": {},
   "outputs": [],
   "source": []
  }
 ],
 "metadata": {
  "kernelspec": {
   "display_name": "Python 3 (ipykernel)",
   "language": "python",
   "name": "python3"
  },
  "language_info": {
   "codemirror_mode": {
    "name": "ipython",
    "version": 3
   },
   "file_extension": ".py",
   "mimetype": "text/x-python",
   "name": "python",
   "nbconvert_exporter": "python",
   "pygments_lexer": "ipython3",
   "version": "3.11.1"
  }
 },
 "nbformat": 4,
 "nbformat_minor": 5
}
